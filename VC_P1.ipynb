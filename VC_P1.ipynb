{
 "cells": [
  {
   "cell_type": "code",
   "execution_count": 1,
   "metadata": {},
   "outputs": [],
   "source": [
    "import cv2  \n",
    "import numpy as np\n",
    "import matplotlib.pyplot as plt"
   ]
  },
  {
   "cell_type": "markdown",
   "metadata": {},
   "source": [
    "TAREA: Crea una imagen, p.e. de 800x800 píxeles, con la textura del tablero de ajedrez"
   ]
  },
  {
   "cell_type": "code",
   "execution_count": 2,
   "metadata": {},
   "outputs": [
    {
     "data": {
      "image/png": "[encoded data removed]",
      "text/plain": [
       "<Figure size 640x480 with 1 Axes>"
      ]
     },
     "metadata": {},
     "output_type": "display_data"
    }
   ],
   "source": [
    "ancho_alto_tablero = 800\n",
    "\n",
    "segmentos_tablero = 8\n",
    "\n",
    "ancho_alto_segmento_tablero = 800 // 8\n",
    "\n",
    "tablero_img = np.zeros((ancho_alto_tablero,ancho_alto_tablero,1), dtype = np.uint8)\n",
    "\n",
    "for i in range(0, segmentos_tablero):\n",
    "    for j in range(0, segmentos_tablero):\n",
    "        if (i % 2 != j % 2):\n",
    "            continue\n",
    "        x0 = i * ancho_alto_segmento_tablero\n",
    "        x1 = x0 + ancho_alto_segmento_tablero\n",
    "        y0 = j * ancho_alto_segmento_tablero\n",
    "        y1 = y0 + ancho_alto_segmento_tablero\n",
    "        tablero_img[y0:y1,x0:x1,0] = 255\n",
    "\n",
    "\n",
    "plt.imshow(tablero_img, cmap='gray')\n",
    "\n",
    "plt.show()"
   ]
  },
  {
   "cell_type": "markdown",
   "metadata": {},
   "source": [
    "TAREA: Crear una imagen estilo Mondrian (un ejemplo https://www3.gobiernodecanarias.org/medusa/ecoescuela/sa/2017/04/17/descubriendo-a-mondrian/ )"
   ]
  },
  {
   "cell_type": "code",
   "execution_count": 3,
   "metadata": {},
   "outputs": [
    {
     "data": {
      "image/png": "[encoded data removed]",
      "text/plain": [
       "<Figure size 640x480 with 1 Axes>"
      ]
     },
     "metadata": {},
     "output_type": "display_data"
    }
   ],
   "source": [
    "ancho_img = 960\n",
    "alto_img = 720\n",
    "\n",
    "color_img = np.zeros((alto_img,ancho_img,3), dtype = np.uint8)\n",
    "\n",
    "def pintar_rectangulo(img, color, x0, y0, width, height):\n",
    "    x1 = x0 + width\n",
    "    y1 = y0 + height\n",
    "    img[y0:y1,x0:x1,0] = color[0]\n",
    "    img[y0:y1,x0:x1,1] = color[1]\n",
    "    img[y0:y1,x0:x1,2] = color[2]\n",
    "\n",
    "def pintar_blanco():\n",
    "    color = [255,255,255]\n",
    "    x0 = 0\n",
    "    y0 = 0\n",
    "    width = 50\n",
    "    height = 220\n",
    "    pintar_rectangulo(color_img, color, x0, y0, width, height)\n",
    "    y0 = y0 + height + 20\n",
    "    pintar_rectangulo(color_img, color, x0, y0, width, height)\n",
    "    y0 = y0 + height + 20\n",
    "    height = alto_img - y0\n",
    "    pintar_rectangulo(color_img, color, x0, y0, width, height)\n",
    "    x0 = x0 + width + 20\n",
    "    width = 100\n",
    "    height = 220\n",
    "    y0 = height + 20\n",
    "    pintar_rectangulo(color_img, color, x0, y0, width, height)\n",
    "    y0 = y0 + height + 20\n",
    "    height = height // 2\n",
    "    pintar_rectangulo(color_img, color, x0, y0, width, height)\n",
    "    x0 = x0 + width + 20\n",
    "    width = 250\n",
    "    height = 220\n",
    "    y0 = height + 20\n",
    "    pintar_rectangulo(color_img, color, x0, y0, width, height)\n",
    "    x0 = x0 + width + 20\n",
    "    width = 100\n",
    "    pintar_rectangulo(color_img, color, x0, y0, width, height)\n",
    "    x0 = x0 + width + 20\n",
    "    y0 = y0 + height + 20\n",
    "    width = 150\n",
    "    height = height // 2\n",
    "    pintar_rectangulo(color_img, color, x0, y0, width, height)\n",
    "    y0 = y0 + height + 20\n",
    "    width = 250\n",
    "    height = alto_img - y0\n",
    "    pintar_rectangulo(color_img, color, x0, y0, width, height)\n",
    "    x0 = x0 + width + 20\n",
    "    y0 = 0\n",
    "    width = ancho_img - x0\n",
    "    height = 220\n",
    "    pintar_rectangulo(color_img, color, x0, y0, width, height)\n",
    "    y0 = y0 + height + 20\n",
    "    height = 350\n",
    "    pintar_rectangulo(color_img, color, x0, y0, width, height)\n",
    "    y0 = y0 + height + 20\n",
    "    height = alto_img - y0\n",
    "    pintar_rectangulo(color_img, color, x0, y0, width, height)\n",
    "\n",
    "def pintar_amarillo():\n",
    "    color = [255,255,0]\n",
    "    x0 = 70\n",
    "    y0 = 0\n",
    "    width = 100\n",
    "    height = 220\n",
    "    pintar_rectangulo(color_img, color, x0, y0, width, height)\n",
    "    x0 = x0 + width + 20\n",
    "    y0 = 610\n",
    "    width = 370\n",
    "    height = alto_img - y0\n",
    "    pintar_rectangulo(color_img, color, x0, y0, width, height)\n",
    "    x0 = x0 +width + 190\n",
    "    y0 = 0\n",
    "    width = 80\n",
    "    height = 220\n",
    "    pintar_rectangulo(color_img, color, x0, y0, width, height)\n",
    "    y0 = y0 + height + 260\n",
    "    height = 220 // 2\n",
    "    pintar_rectangulo(color_img, color, x0, y0, width, height)\n",
    "\n",
    "def pintar_azul():\n",
    "    color = [0,0,255]\n",
    "    x0 = 70\n",
    "    y0 = 610\n",
    "    width = 100\n",
    "    height = alto_img - y0\n",
    "    pintar_rectangulo(color_img, color, x0, y0, width, height)\n",
    "    x0 = x0 + width + 20\n",
    "    y0 = 0\n",
    "    width = 250\n",
    "    height = 220\n",
    "    pintar_rectangulo(color_img, color, x0, y0, width, height)\n",
    "    x0 = x0 + width + 140\n",
    "    y0 = y0 + height + 20\n",
    "    width = 150\n",
    "    pintar_rectangulo(color_img, color, x0, y0, width, height)\n",
    "\n",
    "def pintar_rojo():\n",
    "    color = [255,0,0]\n",
    "    x0 = 190\n",
    "    y0 = 480\n",
    "    width = 370\n",
    "    height = 110\n",
    "    pintar_rectangulo(color_img, color, x0, y0, width, height)\n",
    "    x0 = 460\n",
    "    y0 = 0\n",
    "    width = 270\n",
    "    height = 220\n",
    "    pintar_rectangulo(color_img, color, x0, y0, width, height)\n",
    "    x0 = x0 + width + 20\n",
    "    y0 = y0 + height + 20\n",
    "    width = 80\n",
    "    pintar_rectangulo(color_img, color, x0, y0, width, height)\n",
    "\n",
    "\n",
    "\n",
    "pintar_blanco()\n",
    "pintar_amarillo()\n",
    "pintar_azul()\n",
    "pintar_rojo()\n",
    "\n",
    "plt.imshow(color_img) \n",
    "plt.show()"
   ]
  },
  {
   "cell_type": "markdown",
   "metadata": {},
   "source": [
    "TAREA: Resuelve una de las tareas previas (a elegir) con las funciones de dibujo de OpenCV  :)"
   ]
  },
  {
   "cell_type": "code",
   "execution_count": 5,
   "metadata": {},
   "outputs": [
    {
     "data": {
      "image/png": "[encoded data removed]",
      "text/plain": [
       "<Figure size 640x480 with 1 Axes>"
      ]
     },
     "metadata": {},
     "output_type": "display_data"
    }
   ],
   "source": [
    "ancho_alto_tablero = 800\n",
    "\n",
    "segmentos_tablero = 8\n",
    "\n",
    "ancho_alto_segmento_tablero = 800 // 8\n",
    "\n",
    "tablero_img = np.zeros((ancho_alto_tablero,ancho_alto_tablero,1), dtype = np.uint8)\n",
    "\n",
    "for i in range(0, segmentos_tablero):\n",
    "    for j in range(0, segmentos_tablero):\n",
    "        if (i % 2 != j % 2):\n",
    "            continue\n",
    "        x0 = i * ancho_alto_segmento_tablero\n",
    "        x1 = x0 + ancho_alto_segmento_tablero\n",
    "        y0 = j * ancho_alto_segmento_tablero\n",
    "        y1 = y0 + ancho_alto_segmento_tablero\n",
    "        cv2.rectangle(tablero_img,(x0,y0),(x1,y1),(255),-1)\n",
    "\n",
    "\n",
    "plt.imshow(tablero_img, cmap='gray')\n",
    "\n",
    "plt.show()"
   ]
  },
  {
   "cell_type": "markdown",
   "metadata": {},
   "source": [
    "TAREA: Modifica de forma libre los valores de un plano de la imagen"
   ]
  },
  {
   "cell_type": "code",
   "execution_count": 6,
   "metadata": {},
   "outputs": [],
   "source": [
    "vid = cv2.VideoCapture(0)\n",
    "  \n",
    "while(True):      \n",
    "    # fotograma a fotograma\n",
    "    ret, frame = vid.read()\n",
    "\n",
    "    if ret:\n",
    "        #Dimensiones imagen de entrada\n",
    "        h, w, c = frame.shape\n",
    "\n",
    "        g = np.copy(frame[:,:,1])\n",
    "        offset = 10\n",
    "        radio_oreja = min(h,w)//20\n",
    "        radio_cabeza = min(h,w)//15\n",
    "        cv2.circle(g,(offset+radio_oreja,h-radio_oreja-radio_cabeza-offset), radio_oreja, color=0, thickness=-1)\n",
    "        cv2.circle(g,(offset+radio_oreja+radio_cabeza,h-radio_cabeza-offset), radio_cabeza, color=0, thickness=-1)\n",
    "        cv2.circle(g,(offset+radio_oreja+radio_cabeza*2,h-radio_oreja-radio_cabeza-offset), radio_oreja, color=0, thickness=-1)\n",
    "        frame[:,:,1] = g\n",
    "    \n",
    "        cv2.imshow('RGB', frame)\n",
    "    \n",
    "    # Detenemos pulsado ESC\n",
    "    if cv2.waitKey(20) == 27:\n",
    "        break\n",
    "  \n",
    "# Libera el objeto de captura\n",
    "vid.release()\n",
    "# Destruye ventanas\n",
    "cv2.destroyAllWindows()"
   ]
  },
  {
   "cell_type": "markdown",
   "metadata": {},
   "source": [
    "TAREA: Pintar círculos en las posiciones del píxel más claro y oscuro de la imagen"
   ]
  },
  {
   "cell_type": "code",
   "execution_count": 7,
   "metadata": {},
   "outputs": [],
   "source": [
    "def calcular_brillo(r,g,b):\n",
    "    return 0.2126*r + 0.7152*g + 0.0722*b"
   ]
  },
  {
   "cell_type": "code",
   "execution_count": 18,
   "metadata": {},
   "outputs": [],
   "source": [
    "vid = cv2.VideoCapture(0)\n",
    "\n",
    "while(True):      \n",
    "    # fotograma a fotograma\n",
    "    ret, frame = vid.read()\n",
    "\n",
    "    if ret: \n",
    "        #Dimensiones imagen de entrada\n",
    "        h, w, c = frame.shape\n",
    "        mas_oscuro = calcular_brillo(255,255,255)\n",
    "        pt_mas_oscuro = (0,0)\n",
    "        mas_claro = 0\n",
    "        pt_mas_claro = (0,0)\n",
    "        for i in range(0, w):\n",
    "            for j in range(0, h):\n",
    "                brillo = calcular_brillo(frame[j, i, 0],frame[j, i, 1],frame[j, i, 2])\n",
    "                if (brillo <= mas_oscuro):\n",
    "                    mas_oscuro = brillo\n",
    "                    pt_mas_oscuro = (i,j)\n",
    "                if (brillo >= mas_claro):\n",
    "                    mas_claro = brillo\n",
    "                    pt_mas_claro = (i,j)\n",
    "        cv2.circle(frame,pt_mas_claro, 4, (0,0,255), -1)\n",
    "        cv2.circle(frame,pt_mas_oscuro, 4, (255,0,0), -1)\n",
    "            \n",
    "        cv2.imshow('Cam', frame)   \n",
    "        \n",
    "    # Detenemos pulsado ESC\n",
    "    if cv2.waitKey(20) == 27:\n",
    "        break\n",
    "  \n",
    "# Libera el objeto de captura\n",
    "vid.release()\n",
    "# Destruye ventanas\n",
    "cv2.destroyAllWindows()"
   ]
  },
  {
   "cell_type": "markdown",
   "metadata": {},
   "source": [
    "¿Si quisieras hacerlo sobre la zona 8x8 más clara/oscura?"
   ]
  },
  {
   "cell_type": "code",
   "execution_count": 19,
   "metadata": {},
   "outputs": [],
   "source": [
    "vid = cv2.VideoCapture(0)\n",
    "\n",
    "while(True):      \n",
    "    # fotograma a fotograma\n",
    "    ret, frame = vid.read()\n",
    "\n",
    "    if ret: \n",
    "        #Dimensiones imagen de entrada\n",
    "        h, w, c = frame.shape\n",
    "        mas_oscuro = 255*3\n",
    "        pt_mas_oscuro = (0,0)\n",
    "        mas_claro = 0\n",
    "        pt_mas_claro = (0,0)\n",
    "        for i in range(0, w, 8):\n",
    "            for j in range(0, h, 8):\n",
    "                brillo = np.array([])\n",
    "                for x in range(i,i+8):\n",
    "                    for y in range(j,j+8):\n",
    "                        brillo = np.append(brillo,[calcular_brillo(frame[j, i, 0],frame[j, i, 1],frame[j, i, 2])])\n",
    "                brillo = np.median(brillo)\n",
    "                if (brillo <= mas_oscuro):\n",
    "                    mas_oscuro = brillo\n",
    "                    pt_mas_oscuro = (i,j)\n",
    "                if (brillo >= mas_claro):\n",
    "                    mas_claro = brillo\n",
    "                    pt_mas_claro = (i,j)\n",
    "        cv2.circle(frame,pt_mas_claro, 4, (0,0,255), -1)\n",
    "        cv2.circle(frame,pt_mas_oscuro, 4, (255,0,0), -1)\n",
    "            \n",
    "        cv2.imshow('Cam', frame)   \n",
    "        \n",
    "    # Detenemos pulsado ESC\n",
    "    if cv2.waitKey(20) == 27:\n",
    "        break\n",
    "  \n",
    "# Libera el objeto de captura\n",
    "vid.release()\n",
    "# Destruye ventanas\n",
    "cv2.destroyAllWindows()"
   ]
  },
  {
   "cell_type": "markdown",
   "metadata": {},
   "source": [
    "TAREA: Llevar a cabo una propuesta propia de pop art"
   ]
  },
  {
   "cell_type": "code",
   "execution_count": 28,
   "metadata": {},
   "outputs": [
    {
     "name": "stderr",
     "output_type": "stream",
     "text": [
      "C:\\Users\\Usuario\\AppData\\Local\\Temp\\ipykernel_28064\\811865171.py:20: RuntimeWarning: overflow encountered in scalar add\n",
      "  b[j,i] = min(255, 100 + b[j,i])\n",
      "C:\\Users\\Usuario\\AppData\\Local\\Temp\\ipykernel_28064\\811865171.py:23: RuntimeWarning: overflow encountered in scalar add\n",
      "  r[j,i] = min(255, 100 + r[j,i])\n"
     ]
    }
   ],
   "source": [
    "vid = cv2.VideoCapture(0)\n",
    "\n",
    "def procesar_imagen(frame,level=0):\n",
    "    limit = 6\n",
    "    #Separamos canales\n",
    "    r = frame[:,:,2]\n",
    "    g = frame[:,:,1]\n",
    "    b = frame[:,:,0]\n",
    "    #Dimensiones imagen de entrada\n",
    "    h, w, c = frame.shape\n",
    "\n",
    "    down_frame = cv2.resize(frame,(0,0),cv2.INTER_NEAREST,0.5,0.5)\n",
    "\n",
    "    for i in range(0, w):\n",
    "        for j in range(0, h):\n",
    "            if i > (w//2) and j <= (h//2):\n",
    "                g[j,i] = min(255, 100 + g[j,i])\n",
    "                continue\n",
    "            if i <= (w//2) and j > (h//2):\n",
    "                b[j,i] = min(255, 100 + b[j,i])\n",
    "                continue\n",
    "            if i >= (w//2) and j >= (h//2):\n",
    "                r[j,i] = min(255, 100 + r[j,i])\n",
    "                continue\n",
    "\n",
    "    if (level < limit):\n",
    "        procesar_imagen(down_frame,level+1)\n",
    "        \n",
    "    for i in range(0,w//2):\n",
    "        for j in range(0,h//2):\n",
    "            frame[j,i]=down_frame[j,i]\n",
    "\n",
    "while(True):      \n",
    "    # fotograma a fotograma\n",
    "    ret, frame = vid.read()\n",
    "\n",
    "    if ret: \n",
    "        procesar_imagen(frame)\n",
    "        cv2.imshow('Cam', frame)   \n",
    "        \n",
    "    # Detenemos pulsado ESC\n",
    "    if cv2.waitKey(20) == 27:\n",
    "        break\n",
    "  \n",
    "# Libera el objeto de captura\n",
    "vid.release()\n",
    "# Destruye ventanas\n",
    "cv2.destroyAllWindows()"
   ]
  }
 ],
 "metadata": {
  "kernelspec": {
   "display_name": "VC_P1",
   "language": "python",
   "name": "python3"
  },
  "language_info": {
   "codemirror_mode": {
    "name": "ipython",
    "version": 3
   },
   "file_extension": ".py",
   "mimetype": "text/x-python",
   "name": "python",
   "nbconvert_exporter": "python",
   "pygments_lexer": "ipython3",
   "version": "3.11.5"
  }
 },
 "nbformat": 4,
 "nbformat_minor": 2
}
